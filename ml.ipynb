{
 "cells": [
  {
   "cell_type": "code",
   "execution_count": 22,
   "metadata": {},
   "outputs": [],
   "source": [
    "import pandas as pd\n",
    "import numpy as np\n",
    "from sklearn.linear_model import Ridge\n",
    "from sklearn.ensemble import RandomForestRegressor\n",
    "from sklearn.preprocessing import StandardScaler\n",
    "from sklearn.metrics import mean_squared_error, r2_score, mean_absolute_error\n",
    "from sklearn.model_selection import cross_val_score, GridSearchCV\n",
    "import joblib\n"
   ]
  },
  {
   "cell_type": "code",
   "execution_count": 23,
   "metadata": {},
   "outputs": [],
   "source": [
    "# Load Data\n",
    "stats = pd.read_csv(\"player_mvp_stats.csv\")\n"
   ]
  },
  {
   "cell_type": "code",
   "execution_count": 24,
   "metadata": {},
   "outputs": [],
   "source": [
    "# Handle Missing Values\n",
    "stats.fillna(stats.mean(numeric_only=True), inplace=True)\n"
   ]
  },
  {
   "cell_type": "code",
   "execution_count": 25,
   "metadata": {},
   "outputs": [],
   "source": [
    "# Define Predictors\n",
    "predictors = [\"Age\", \"G_y\", \"GS\", \"MP\", \"FG\", \"FGA\", 'FG%', '3P', '3PA', '3P%', '2P', '2PA', '2P%', 'eFG%', 'FT', 'FTA', 'FT%', 'ORB', 'DRB', 'TRB', 'AST', 'STL', 'BLK', 'TOV', 'PF', 'PTS', 'W', 'L', 'W/L%', 'PS/G', 'PA/G', 'SRS']\n"
   ]
  },
  {
   "cell_type": "code",
   "execution_count": 37,
   "metadata": {},
   "outputs": [],
   "source": [
    "# Split Data\n",
    "years = list(range(1995, 2025))\n",
    "ridge_mse = []\n",
    "rf_mse = []\n",
    "ridge_r2 = []\n",
    "rf_r2 = []\n",
    "ridge_mae = []\n",
    "rf_mae = []\n",
    "\n",
    "for year in years:\n",
    "    # Split Data\n",
    "    train = stats[stats[\"Year\"] < year].copy()\n",
    "    test = stats[stats[\"Year\"] == year].copy()\n"
   ]
  },
  {
   "cell_type": "code",
   "execution_count": 38,
   "metadata": {},
   "outputs": [],
   "source": [
    "# Feature Scaling\n",
    "scaler = StandardScaler()\n",
    "train[predictors] = scaler.fit_transform(train[predictors])\n",
    "test[predictors] = scaler.transform(test[predictors])\n"
   ]
  },
  {
   "cell_type": "code",
   "execution_count": 39,
   "metadata": {},
   "outputs": [
    {
     "name": "stdout",
     "output_type": "stream",
     "text": [
      "MSE: 0.0017017920307472578\n",
      "R²: 0.06720237406718432\n",
      "MAE: 0.010929158258906045\n"
     ]
    }
   ],
   "source": [
    "# Ridge Regression Model\n",
    "ridge = Ridge()\n",
    "\n",
    "# Hyperparameter Tuning for Ridge\n",
    "ridge_params = {'alpha': [0.01, 0.1, 1, 10]}\n",
    "ridge_grid = GridSearchCV(ridge, ridge_params, cv=5)\n",
    "ridge_grid.fit(train[predictors], train[\"Share\"])\n",
    "\n",
    "# Best Model\n",
    "ridge_best = ridge_grid.best_estimator_\n",
    "\n",
    "# Predictions\n",
    "predictions = ridge_best.predict(test[predictors])\n",
    "predictions = pd.DataFrame(predictions, columns=[\"predictions\"], index=test.index)\n",
    "\n",
    "# Combine and Evaluate\n",
    "combination = pd.concat([test[[\"Player\", \"Share\"]], predictions], axis=1)\n",
    "print(\"MSE:\", mean_squared_error(combination[\"Share\"], combination[\"predictions\"]))\n",
    "print(\"R²:\", r2_score(combination[\"Share\"], combination[\"predictions\"]))\n",
    "print(\"MAE:\", mean_absolute_error(combination[\"Share\"], combination[\"predictions\"]))\n"
   ]
  },
  {
   "cell_type": "code",
   "execution_count": 40,
   "metadata": {},
   "outputs": [
    {
     "name": "stdout",
     "output_type": "stream",
     "text": [
      "RandomForest MSE: 0.0010050626780250599\n",
      "RandomForest R²: 0.4490983251556372\n",
      "RandomForest MAE: 0.003306522054257553\n"
     ]
    }
   ],
   "source": [
    "# RandomForest Regressor\n",
    "rf = RandomForestRegressor(random_state=1)\n",
    "\n",
    "# Hyperparameter Tuning for RandomForest\n",
    "rf_params = {'n_estimators': [50, 100, 200], 'min_samples_split': [2, 5, 10]}\n",
    "rf_grid = GridSearchCV(rf, rf_params, cv=5)\n",
    "rf_grid.fit(train[predictors], train[\"Share\"])\n",
    "\n",
    "# Best Model\n",
    "rf_best = rf_grid.best_estimator_\n",
    "\n",
    "# Predictions\n",
    "rf_predictions = rf_best.predict(test[predictors])\n",
    "rf_predictions = pd.DataFrame(rf_predictions, columns=[\"predictions\"], index=test.index)\n",
    "\n",
    "# Combine and Evaluate\n",
    "rf_combination = pd.concat([test[[\"Player\", \"Share\"]], rf_predictions], axis=1)\n",
    "print(\"RandomForest MSE:\", mean_squared_error(rf_combination[\"Share\"], rf_combination[\"predictions\"]))\n",
    "print(\"RandomForest R²:\", r2_score(rf_combination[\"Share\"], rf_combination[\"predictions\"]))\n",
    "print(\"RandomForest MAE:\", mean_absolute_error(rf_combination[\"Share\"], rf_combination[\"predictions\"]))\n"
   ]
  },
  {
   "cell_type": "code",
   "execution_count": 41,
   "metadata": {},
   "outputs": [
    {
     "name": "stdout",
     "output_type": "stream",
     "text": [
      "Top 5 Actual MVPs:\n",
      "                       Player     Share  predictions\n",
      "711              Nikola Jokić  0.935000     0.265513\n",
      "1349  Shai Gilgeous-Alexander  0.646000     0.239367\n",
      "260               Luka Dončić  0.572000     0.241445\n",
      "150     Giannis Antetokounmpo  0.194000     0.272402\n",
      "9601              Nic Claxton  0.177661     0.195556\n",
      "Top 5 Predicted MVPs:\n",
      "                      Player     Share  predictions\n",
      "150    Giannis Antetokounmpo  0.194000     0.272402\n",
      "711             Nikola Jokić  0.935000     0.265513\n",
      "4182        Domantas Sabonis  0.003000     0.257844\n",
      "12777            Joel Embiid  0.177661     0.243985\n",
      "260              Luka Dončić  0.572000     0.241445\n",
      "Top 5 Actual MVPs:\n",
      "                       Player     Share  predictions\n",
      "711              Nikola Jokić  0.935000     0.450596\n",
      "1349  Shai Gilgeous-Alexander  0.646000     0.257481\n",
      "260               Luka Dončić  0.572000     0.244483\n",
      "150     Giannis Antetokounmpo  0.194000     0.295841\n",
      "9601              Nic Claxton  0.177661     0.177661\n",
      "Top 5 Predicted MVPs:\n",
      "                        Player     Share  predictions\n",
      "711               Nikola Jokić  0.935000     0.450596\n",
      "12777              Joel Embiid  0.177661     0.324156\n",
      "150      Giannis Antetokounmpo  0.194000     0.295841\n",
      "1349   Shai Gilgeous-Alexander  0.646000     0.257481\n",
      "260                Luka Dončić  0.572000     0.244483\n"
     ]
    }
   ],
   "source": [
    "# Additional Evaluation Metrics\n",
    "def calculate_metrics(combination, share_col='Share'):\n",
    "    print(\"Top 5 Actual MVPs:\")\n",
    "    print(combination.sort_values(share_col, ascending=False).head(5))\n",
    "    print(\"Top 5 Predicted MVPs:\")\n",
    "    print(combination.sort_values(\"predictions\", ascending=False).head(5))\n",
    "\n",
    "calculate_metrics(combination)\n",
    "calculate_metrics(rf_combination)\n"
   ]
  },
  {
   "cell_type": "code",
   "execution_count": 34,
   "metadata": {},
   "outputs": [
    {
     "data": {
      "text/plain": [
       "['rf_best_model.pkl']"
      ]
     },
     "execution_count": 34,
     "metadata": {},
     "output_type": "execute_result"
    }
   ],
   "source": [
    "# Save Model\n",
    "joblib.dump(ridge_best, 'ridge_best_model.pkl')\n",
    "joblib.dump(rf_best, 'rf_best_model.pkl')\n"
   ]
  }
 ],
 "metadata": {
  "kernelspec": {
   "display_name": "base",
   "language": "python",
   "name": "python3"
  },
  "language_info": {
   "codemirror_mode": {
    "name": "ipython",
    "version": 3
   },
   "file_extension": ".py",
   "mimetype": "text/x-python",
   "name": "python",
   "nbconvert_exporter": "python",
   "pygments_lexer": "ipython3",
   "version": "3.10.9"
  }
 },
 "nbformat": 4,
 "nbformat_minor": 2
}
