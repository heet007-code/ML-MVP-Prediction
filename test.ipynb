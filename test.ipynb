{
 "cells": [
  {
   "cell_type": "code",
   "execution_count": 1,
   "metadata": {},
   "outputs": [],
   "source": [
    "import pandas as pd\n",
    "import numpy as np\n",
    "from sklearn.model_selection import train_test_split, GridSearchCV\n",
    "from sklearn.ensemble import RandomForestRegressor, GradientBoostingRegressor, StackingRegressor\n",
    "from sklearn.metrics import mean_squared_error, r2_score, mean_absolute_error\n",
    "from sklearn.preprocessing import StandardScaler"
   ]
  },
  {
   "cell_type": "code",
   "execution_count": 3,
   "metadata": {},
   "outputs": [],
   "source": [
    "# Ensure both files have the columns 'Player', 'Year', and 'Shares' in the mvp_stats\n",
    "# Merge the data on 'Player' and 'Year'\n",
    "data = pd.read_csv('path_to_sorted_file.csv')"
   ]
  },
  {
   "cell_type": "code",
   "execution_count": 4,
   "metadata": {},
   "outputs": [],
   "source": [
    "# Sort data by Year and Team\n",
    "data = data.sort_values(by=['Year', 'Team'])"
   ]
  },
  {
   "cell_type": "code",
   "execution_count": 26,
   "metadata": {},
   "outputs": [],
   "source": [
    "# Fill missing values if necessary\n",
    "data.fillna(0, inplace=True)"
   ]
  },
  {
   "cell_type": "code",
   "execution_count": 38,
   "metadata": {},
   "outputs": [],
   "source": [
    "# Define predictors and target variable\n",
    "predictors = [col for col in data.columns if col not in ['Player', 'Year', 'Share']]\n",
    "target = 'Share'"
   ]
  },
  {
   "cell_type": "code",
   "execution_count": 37,
   "metadata": {},
   "outputs": [],
   "source": [
    "# Select predictors and target variable\n",
    "predictors = [col for col in data.columns if col not in ['Player', 'Year', 'Share']]\n",
    "target = 'Share'"
   ]
  },
  {
   "cell_type": "code",
   "execution_count": 29,
   "metadata": {},
   "outputs": [],
   "source": [
    "\n",
    "# Convert non-numeric columns to numeric using one-hot encoding\n",
    "data = pd.get_dummies(data, columns=[col for col in predictors if data[col].dtype == 'object'])"
   ]
  },
  {
   "cell_type": "code",
   "execution_count": 30,
   "metadata": {},
   "outputs": [],
   "source": [
    "# Update the list of predictors after one-hot encoding\n",
    "predictors = [col for col in data.columns if col not in ['Player', 'Year', 'Share']]"
   ]
  },
  {
   "cell_type": "code",
   "execution_count": 31,
   "metadata": {},
   "outputs": [],
   "source": [
    "# Standardize the features\n",
    "scaler = StandardScaler()\n",
    "data[predictors] = scaler.fit_transform(data[predictors])"
   ]
  },
  {
   "cell_type": "code",
   "execution_count": 32,
   "metadata": {},
   "outputs": [],
   "source": [
    "# Split the data into training and testing sets\n",
    "train, test = train_test_split(data, test_size=0.2, random_state=1)"
   ]
  },
  {
   "cell_type": "code",
   "execution_count": 39,
   "metadata": {},
   "outputs": [],
   "source": [
    "# Initialize models\n",
    "rf = RandomForestRegressor(random_state=1)\n",
    "gbr = GradientBoostingRegressor(random_state=1)"
   ]
  },
  {
   "cell_type": "code",
   "execution_count": 40,
   "metadata": {},
   "outputs": [],
   "source": [
    "\n",
    "# Define hyperparameters for tuning\n",
    "rf_params = {\n",
    "    'n_estimators': [100, 200, 300],\n",
    "    'max_depth': [10, 20, 30],\n",
    "    'min_samples_split': [2, 5, 10],\n",
    "    'min_samples_leaf': [1, 2, 4]\n",
    "}\n",
    "\n",
    "gbr_params = {\n",
    "    'n_estimators': [100, 200, 300],\n",
    "    'learning_rate': [0.01, 0.1, 0.2],\n",
    "    'max_depth': [3, 5, 7],\n",
    "    'min_samples_split': [2, 5, 10],\n",
    "    'min_samples_leaf': [1, 2, 4]\n",
    "}"
   ]
  },
  {
   "cell_type": "code",
   "execution_count": 41,
   "metadata": {},
   "outputs": [],
   "source": [
    "# Perform grid search with cross-validation\n",
    "rf_grid = GridSearchCV(rf, rf_params, cv=5, n_jobs=-1, verbose=1)\n",
    "gbr_grid = GridSearchCV(gbr, gbr_params, cv=5, n_jobs=-1, verbose=1)"
   ]
  },
  {
   "cell_type": "code",
   "execution_count": 42,
   "metadata": {},
   "outputs": [
    {
     "name": "stdout",
     "output_type": "stream",
     "text": [
      "Fitting 5 folds for each of 81 candidates, totalling 405 fits\n",
      "Fitting 5 folds for each of 243 candidates, totalling 1215 fits\n"
     ]
    },
    {
     "data": {
      "text/html": [
       "<style>#sk-container-id-1 {color: black;background-color: white;}#sk-container-id-1 pre{padding: 0;}#sk-container-id-1 div.sk-toggleable {background-color: white;}#sk-container-id-1 label.sk-toggleable__label {cursor: pointer;display: block;width: 100%;margin-bottom: 0;padding: 0.3em;box-sizing: border-box;text-align: center;}#sk-container-id-1 label.sk-toggleable__label-arrow:before {content: \"▸\";float: left;margin-right: 0.25em;color: #696969;}#sk-container-id-1 label.sk-toggleable__label-arrow:hover:before {color: black;}#sk-container-id-1 div.sk-estimator:hover label.sk-toggleable__label-arrow:before {color: black;}#sk-container-id-1 div.sk-toggleable__content {max-height: 0;max-width: 0;overflow: hidden;text-align: left;background-color: #f0f8ff;}#sk-container-id-1 div.sk-toggleable__content pre {margin: 0.2em;color: black;border-radius: 0.25em;background-color: #f0f8ff;}#sk-container-id-1 input.sk-toggleable__control:checked~div.sk-toggleable__content {max-height: 200px;max-width: 100%;overflow: auto;}#sk-container-id-1 input.sk-toggleable__control:checked~label.sk-toggleable__label-arrow:before {content: \"▾\";}#sk-container-id-1 div.sk-estimator input.sk-toggleable__control:checked~label.sk-toggleable__label {background-color: #d4ebff;}#sk-container-id-1 div.sk-label input.sk-toggleable__control:checked~label.sk-toggleable__label {background-color: #d4ebff;}#sk-container-id-1 input.sk-hidden--visually {border: 0;clip: rect(1px 1px 1px 1px);clip: rect(1px, 1px, 1px, 1px);height: 1px;margin: -1px;overflow: hidden;padding: 0;position: absolute;width: 1px;}#sk-container-id-1 div.sk-estimator {font-family: monospace;background-color: #f0f8ff;border: 1px dotted black;border-radius: 0.25em;box-sizing: border-box;margin-bottom: 0.5em;}#sk-container-id-1 div.sk-estimator:hover {background-color: #d4ebff;}#sk-container-id-1 div.sk-parallel-item::after {content: \"\";width: 100%;border-bottom: 1px solid gray;flex-grow: 1;}#sk-container-id-1 div.sk-label:hover label.sk-toggleable__label {background-color: #d4ebff;}#sk-container-id-1 div.sk-serial::before {content: \"\";position: absolute;border-left: 1px solid gray;box-sizing: border-box;top: 0;bottom: 0;left: 50%;z-index: 0;}#sk-container-id-1 div.sk-serial {display: flex;flex-direction: column;align-items: center;background-color: white;padding-right: 0.2em;padding-left: 0.2em;position: relative;}#sk-container-id-1 div.sk-item {position: relative;z-index: 1;}#sk-container-id-1 div.sk-parallel {display: flex;align-items: stretch;justify-content: center;background-color: white;position: relative;}#sk-container-id-1 div.sk-item::before, #sk-container-id-1 div.sk-parallel-item::before {content: \"\";position: absolute;border-left: 1px solid gray;box-sizing: border-box;top: 0;bottom: 0;left: 50%;z-index: -1;}#sk-container-id-1 div.sk-parallel-item {display: flex;flex-direction: column;z-index: 1;position: relative;background-color: white;}#sk-container-id-1 div.sk-parallel-item:first-child::after {align-self: flex-end;width: 50%;}#sk-container-id-1 div.sk-parallel-item:last-child::after {align-self: flex-start;width: 50%;}#sk-container-id-1 div.sk-parallel-item:only-child::after {width: 0;}#sk-container-id-1 div.sk-dashed-wrapped {border: 1px dashed gray;margin: 0 0.4em 0.5em 0.4em;box-sizing: border-box;padding-bottom: 0.4em;background-color: white;}#sk-container-id-1 div.sk-label label {font-family: monospace;font-weight: bold;display: inline-block;line-height: 1.2em;}#sk-container-id-1 div.sk-label-container {text-align: center;}#sk-container-id-1 div.sk-container {/* jupyter's `normalize.less` sets `[hidden] { display: none; }` but bootstrap.min.css set `[hidden] { display: none !important; }` so we also need the `!important` here to be able to override the default hidden behavior on the sphinx rendered scikit-learn.org. See: https://github.com/scikit-learn/scikit-learn/issues/21755 */display: inline-block !important;position: relative;}#sk-container-id-1 div.sk-text-repr-fallback {display: none;}</style><div id=\"sk-container-id-1\" class=\"sk-top-container\"><div class=\"sk-text-repr-fallback\"><pre>GridSearchCV(cv=5, estimator=GradientBoostingRegressor(random_state=1),\n",
       "             n_jobs=-1,\n",
       "             param_grid={&#x27;learning_rate&#x27;: [0.01, 0.1, 0.2],\n",
       "                         &#x27;max_depth&#x27;: [3, 5, 7], &#x27;min_samples_leaf&#x27;: [1, 2, 4],\n",
       "                         &#x27;min_samples_split&#x27;: [2, 5, 10],\n",
       "                         &#x27;n_estimators&#x27;: [100, 200, 300]},\n",
       "             verbose=1)</pre><b>In a Jupyter environment, please rerun this cell to show the HTML representation or trust the notebook. <br />On GitHub, the HTML representation is unable to render, please try loading this page with nbviewer.org.</b></div><div class=\"sk-container\" hidden><div class=\"sk-item sk-dashed-wrapped\"><div class=\"sk-label-container\"><div class=\"sk-label sk-toggleable\"><input class=\"sk-toggleable__control sk-hidden--visually\" id=\"sk-estimator-id-1\" type=\"checkbox\" ><label for=\"sk-estimator-id-1\" class=\"sk-toggleable__label sk-toggleable__label-arrow\">GridSearchCV</label><div class=\"sk-toggleable__content\"><pre>GridSearchCV(cv=5, estimator=GradientBoostingRegressor(random_state=1),\n",
       "             n_jobs=-1,\n",
       "             param_grid={&#x27;learning_rate&#x27;: [0.01, 0.1, 0.2],\n",
       "                         &#x27;max_depth&#x27;: [3, 5, 7], &#x27;min_samples_leaf&#x27;: [1, 2, 4],\n",
       "                         &#x27;min_samples_split&#x27;: [2, 5, 10],\n",
       "                         &#x27;n_estimators&#x27;: [100, 200, 300]},\n",
       "             verbose=1)</pre></div></div></div><div class=\"sk-parallel\"><div class=\"sk-parallel-item\"><div class=\"sk-item\"><div class=\"sk-label-container\"><div class=\"sk-label sk-toggleable\"><input class=\"sk-toggleable__control sk-hidden--visually\" id=\"sk-estimator-id-2\" type=\"checkbox\" ><label for=\"sk-estimator-id-2\" class=\"sk-toggleable__label sk-toggleable__label-arrow\">estimator: GradientBoostingRegressor</label><div class=\"sk-toggleable__content\"><pre>GradientBoostingRegressor(random_state=1)</pre></div></div></div><div class=\"sk-serial\"><div class=\"sk-item\"><div class=\"sk-estimator sk-toggleable\"><input class=\"sk-toggleable__control sk-hidden--visually\" id=\"sk-estimator-id-3\" type=\"checkbox\" ><label for=\"sk-estimator-id-3\" class=\"sk-toggleable__label sk-toggleable__label-arrow\">GradientBoostingRegressor</label><div class=\"sk-toggleable__content\"><pre>GradientBoostingRegressor(random_state=1)</pre></div></div></div></div></div></div></div></div></div></div>"
      ],
      "text/plain": [
       "GridSearchCV(cv=5, estimator=GradientBoostingRegressor(random_state=1),\n",
       "             n_jobs=-1,\n",
       "             param_grid={'learning_rate': [0.01, 0.1, 0.2],\n",
       "                         'max_depth': [3, 5, 7], 'min_samples_leaf': [1, 2, 4],\n",
       "                         'min_samples_split': [2, 5, 10],\n",
       "                         'n_estimators': [100, 200, 300]},\n",
       "             verbose=1)"
      ]
     },
     "execution_count": 42,
     "metadata": {},
     "output_type": "execute_result"
    }
   ],
   "source": [
    "# Fit the models\n",
    "rf_grid.fit(train[predictors], train[target])\n",
    "gbr_grid.fit(train[predictors], train[target])"
   ]
  },
  {
   "cell_type": "code",
   "execution_count": 43,
   "metadata": {},
   "outputs": [],
   "source": [
    "# Get the best models\n",
    "rf_best = rf_grid.best_estimator_\n",
    "gbr_best = gbr_grid.best_estimator_"
   ]
  },
  {
   "cell_type": "code",
   "execution_count": 44,
   "metadata": {},
   "outputs": [],
   "source": [
    "\n",
    "# Define base models for stacking\n",
    "base_models = [\n",
    "    ('rf', rf_best),\n",
    "    ('gbr', gbr_best)\n",
    "]\n"
   ]
  },
  {
   "cell_type": "code",
   "execution_count": 45,
   "metadata": {},
   "outputs": [],
   "source": [
    "# Define the meta-model\n",
    "meta_model = GradientBoostingRegressor(n_estimators=100, random_state=1)"
   ]
  },
  {
   "cell_type": "code",
   "execution_count": 46,
   "metadata": {},
   "outputs": [],
   "source": [
    "# Initialize the stacking regressor\n",
    "stacking_regressor = StackingRegressor(estimators=base_models, final_estimator=meta_model, cv=5)"
   ]
  },
  {
   "cell_type": "code",
   "execution_count": 47,
   "metadata": {},
   "outputs": [
    {
     "data": {
      "text/html": [
       "<style>#sk-container-id-2 {color: black;background-color: white;}#sk-container-id-2 pre{padding: 0;}#sk-container-id-2 div.sk-toggleable {background-color: white;}#sk-container-id-2 label.sk-toggleable__label {cursor: pointer;display: block;width: 100%;margin-bottom: 0;padding: 0.3em;box-sizing: border-box;text-align: center;}#sk-container-id-2 label.sk-toggleable__label-arrow:before {content: \"▸\";float: left;margin-right: 0.25em;color: #696969;}#sk-container-id-2 label.sk-toggleable__label-arrow:hover:before {color: black;}#sk-container-id-2 div.sk-estimator:hover label.sk-toggleable__label-arrow:before {color: black;}#sk-container-id-2 div.sk-toggleable__content {max-height: 0;max-width: 0;overflow: hidden;text-align: left;background-color: #f0f8ff;}#sk-container-id-2 div.sk-toggleable__content pre {margin: 0.2em;color: black;border-radius: 0.25em;background-color: #f0f8ff;}#sk-container-id-2 input.sk-toggleable__control:checked~div.sk-toggleable__content {max-height: 200px;max-width: 100%;overflow: auto;}#sk-container-id-2 input.sk-toggleable__control:checked~label.sk-toggleable__label-arrow:before {content: \"▾\";}#sk-container-id-2 div.sk-estimator input.sk-toggleable__control:checked~label.sk-toggleable__label {background-color: #d4ebff;}#sk-container-id-2 div.sk-label input.sk-toggleable__control:checked~label.sk-toggleable__label {background-color: #d4ebff;}#sk-container-id-2 input.sk-hidden--visually {border: 0;clip: rect(1px 1px 1px 1px);clip: rect(1px, 1px, 1px, 1px);height: 1px;margin: -1px;overflow: hidden;padding: 0;position: absolute;width: 1px;}#sk-container-id-2 div.sk-estimator {font-family: monospace;background-color: #f0f8ff;border: 1px dotted black;border-radius: 0.25em;box-sizing: border-box;margin-bottom: 0.5em;}#sk-container-id-2 div.sk-estimator:hover {background-color: #d4ebff;}#sk-container-id-2 div.sk-parallel-item::after {content: \"\";width: 100%;border-bottom: 1px solid gray;flex-grow: 1;}#sk-container-id-2 div.sk-label:hover label.sk-toggleable__label {background-color: #d4ebff;}#sk-container-id-2 div.sk-serial::before {content: \"\";position: absolute;border-left: 1px solid gray;box-sizing: border-box;top: 0;bottom: 0;left: 50%;z-index: 0;}#sk-container-id-2 div.sk-serial {display: flex;flex-direction: column;align-items: center;background-color: white;padding-right: 0.2em;padding-left: 0.2em;position: relative;}#sk-container-id-2 div.sk-item {position: relative;z-index: 1;}#sk-container-id-2 div.sk-parallel {display: flex;align-items: stretch;justify-content: center;background-color: white;position: relative;}#sk-container-id-2 div.sk-item::before, #sk-container-id-2 div.sk-parallel-item::before {content: \"\";position: absolute;border-left: 1px solid gray;box-sizing: border-box;top: 0;bottom: 0;left: 50%;z-index: -1;}#sk-container-id-2 div.sk-parallel-item {display: flex;flex-direction: column;z-index: 1;position: relative;background-color: white;}#sk-container-id-2 div.sk-parallel-item:first-child::after {align-self: flex-end;width: 50%;}#sk-container-id-2 div.sk-parallel-item:last-child::after {align-self: flex-start;width: 50%;}#sk-container-id-2 div.sk-parallel-item:only-child::after {width: 0;}#sk-container-id-2 div.sk-dashed-wrapped {border: 1px dashed gray;margin: 0 0.4em 0.5em 0.4em;box-sizing: border-box;padding-bottom: 0.4em;background-color: white;}#sk-container-id-2 div.sk-label label {font-family: monospace;font-weight: bold;display: inline-block;line-height: 1.2em;}#sk-container-id-2 div.sk-label-container {text-align: center;}#sk-container-id-2 div.sk-container {/* jupyter's `normalize.less` sets `[hidden] { display: none; }` but bootstrap.min.css set `[hidden] { display: none !important; }` so we also need the `!important` here to be able to override the default hidden behavior on the sphinx rendered scikit-learn.org. See: https://github.com/scikit-learn/scikit-learn/issues/21755 */display: inline-block !important;position: relative;}#sk-container-id-2 div.sk-text-repr-fallback {display: none;}</style><div id=\"sk-container-id-2\" class=\"sk-top-container\"><div class=\"sk-text-repr-fallback\"><pre>StackingRegressor(cv=5,\n",
       "                  estimators=[(&#x27;rf&#x27;,\n",
       "                               RandomForestRegressor(max_depth=10,\n",
       "                                                     min_samples_leaf=2,\n",
       "                                                     random_state=1)),\n",
       "                              (&#x27;gbr&#x27;,\n",
       "                               GradientBoostingRegressor(min_samples_leaf=2,\n",
       "                                                         n_estimators=300,\n",
       "                                                         random_state=1))],\n",
       "                  final_estimator=GradientBoostingRegressor(random_state=1))</pre><b>In a Jupyter environment, please rerun this cell to show the HTML representation or trust the notebook. <br />On GitHub, the HTML representation is unable to render, please try loading this page with nbviewer.org.</b></div><div class=\"sk-container\" hidden><div class=\"sk-item sk-dashed-wrapped\"><div class=\"sk-label-container\"><div class=\"sk-label sk-toggleable\"><input class=\"sk-toggleable__control sk-hidden--visually\" id=\"sk-estimator-id-4\" type=\"checkbox\" ><label for=\"sk-estimator-id-4\" class=\"sk-toggleable__label sk-toggleable__label-arrow\">StackingRegressor</label><div class=\"sk-toggleable__content\"><pre>StackingRegressor(cv=5,\n",
       "                  estimators=[(&#x27;rf&#x27;,\n",
       "                               RandomForestRegressor(max_depth=10,\n",
       "                                                     min_samples_leaf=2,\n",
       "                                                     random_state=1)),\n",
       "                              (&#x27;gbr&#x27;,\n",
       "                               GradientBoostingRegressor(min_samples_leaf=2,\n",
       "                                                         n_estimators=300,\n",
       "                                                         random_state=1))],\n",
       "                  final_estimator=GradientBoostingRegressor(random_state=1))</pre></div></div></div><div class=\"sk-serial\"><div class=\"sk-item\"><div class=\"sk-parallel\"><div class=\"sk-parallel-item\"><div class=\"sk-item\"><div class=\"sk-label-container\"><div class=\"sk-label sk-toggleable\"><label>rf</label></div></div><div class=\"sk-serial\"><div class=\"sk-item\"><div class=\"sk-estimator sk-toggleable\"><input class=\"sk-toggleable__control sk-hidden--visually\" id=\"sk-estimator-id-5\" type=\"checkbox\" ><label for=\"sk-estimator-id-5\" class=\"sk-toggleable__label sk-toggleable__label-arrow\">RandomForestRegressor</label><div class=\"sk-toggleable__content\"><pre>RandomForestRegressor(max_depth=10, min_samples_leaf=2, random_state=1)</pre></div></div></div></div></div></div><div class=\"sk-parallel-item\"><div class=\"sk-item\"><div class=\"sk-label-container\"><div class=\"sk-label sk-toggleable\"><label>gbr</label></div></div><div class=\"sk-serial\"><div class=\"sk-item\"><div class=\"sk-estimator sk-toggleable\"><input class=\"sk-toggleable__control sk-hidden--visually\" id=\"sk-estimator-id-6\" type=\"checkbox\" ><label for=\"sk-estimator-id-6\" class=\"sk-toggleable__label sk-toggleable__label-arrow\">GradientBoostingRegressor</label><div class=\"sk-toggleable__content\"><pre>GradientBoostingRegressor(min_samples_leaf=2, n_estimators=300, random_state=1)</pre></div></div></div></div></div></div></div></div><div class=\"sk-item\"><div class=\"sk-parallel\"><div class=\"sk-parallel-item\"><div class=\"sk-item\"><div class=\"sk-label-container\"><div class=\"sk-label sk-toggleable\"><label>final_estimator</label></div></div><div class=\"sk-serial\"><div class=\"sk-item\"><div class=\"sk-estimator sk-toggleable\"><input class=\"sk-toggleable__control sk-hidden--visually\" id=\"sk-estimator-id-7\" type=\"checkbox\" ><label for=\"sk-estimator-id-7\" class=\"sk-toggleable__label sk-toggleable__label-arrow\">GradientBoostingRegressor</label><div class=\"sk-toggleable__content\"><pre>GradientBoostingRegressor(random_state=1)</pre></div></div></div></div></div></div></div></div></div></div></div></div>"
      ],
      "text/plain": [
       "StackingRegressor(cv=5,\n",
       "                  estimators=[('rf',\n",
       "                               RandomForestRegressor(max_depth=10,\n",
       "                                                     min_samples_leaf=2,\n",
       "                                                     random_state=1)),\n",
       "                              ('gbr',\n",
       "                               GradientBoostingRegressor(min_samples_leaf=2,\n",
       "                                                         n_estimators=300,\n",
       "                                                         random_state=1))],\n",
       "                  final_estimator=GradientBoostingRegressor(random_state=1))"
      ]
     },
     "execution_count": 47,
     "metadata": {},
     "output_type": "execute_result"
    }
   ],
   "source": [
    "# Fit the stacking model\n",
    "stacking_regressor.fit(train[predictors], train[target])"
   ]
  },
  {
   "cell_type": "code",
   "execution_count": 48,
   "metadata": {},
   "outputs": [],
   "source": [
    "# Predictions\n",
    "stacking_predictions = stacking_regressor.predict(test[predictors])\n",
    "stacking_predictions = pd.DataFrame(stacking_predictions, columns=[\"predictions\"], index=test.index)"
   ]
  },
  {
   "cell_type": "code",
   "execution_count": 50,
   "metadata": {},
   "outputs": [
    {
     "name": "stdout",
     "output_type": "stream",
     "text": [
      "Stacking MSE: 0.0021394583355989834\n",
      "Stacking R²: 0.9975620857971954\n",
      "Stacking MAE: 0.0038285338287963747\n"
     ]
    }
   ],
   "source": [
    "# Combine and evaluate\n",
    "stacking_combination = pd.concat([test[[\"Player\", \"Share\"]], stacking_predictions], axis=1)\n",
    "print(\"Stacking MSE:\", mean_squared_error(stacking_combination[\"Share\"], stacking_combination[\"predictions\"]))\n",
    "print(\"Stacking R²:\", r2_score(stacking_combination[\"Share\"], stacking_combination[\"predictions\"]))\n",
    "print(\"Stacking MAE:\", mean_absolute_error(stacking_combination[\"Share\"], stacking_combination[\"predictions\"]))"
   ]
  },
  {
   "cell_type": "code",
   "execution_count": 53,
   "metadata": {},
   "outputs": [
    {
     "name": "stdout",
     "output_type": "stream",
     "text": [
      "Stacking Model Accuracy: 99.76%\n"
     ]
    }
   ],
   "source": [
    "# Calculate R² Score\n",
    "r2_stacking = r2_score(stacking_combination[\"Share\"], stacking_combination[\"predictions\"])\n",
    "\n",
    "# Convert R² Score to Percentage\n",
    "accuracy_percentage_stacking = r2_stacking * 100\n",
    "\n",
    "print(f\"Stacking Model Accuracy: {accuracy_percentage_stacking:.2f}%\")"
   ]
  },
  {
   "cell_type": "code",
   "execution_count": 55,
   "metadata": {},
   "outputs": [
    {
     "name": "stdout",
     "output_type": "stream",
     "text": [
      "       Year               Player     Share  Predictions\n",
      "0      1995          Andrew Lang -0.095031    -0.094916\n",
      "1      1995           Craig Ehlo -0.095031    -0.094916\n",
      "2      1995         Doug Edwards -0.095031    -0.094916\n",
      "3      1995        Ennis Whatley -0.095031    -0.094916\n",
      "4      1995          Fred Vinson -0.095031    -0.094916\n",
      "...     ...                  ...       ...          ...\n",
      "14239  2024    Marvin Bagley III -0.095031    -0.094916\n",
      "14240  2024  Patrick Baldwin Jr. -0.095031    -0.094916\n",
      "14241  2024       Richaun Holmes -0.095031    -0.094916\n",
      "14242  2024     Tristan Vukcevic -0.095031    -0.094916\n",
      "14243  2024           Tyus Jones -0.095031    -0.094916\n",
      "\n",
      "[14244 rows x 4 columns]\n"
     ]
    }
   ],
   "source": [
    "# Predictions for the entire dataset\n",
    "data['Predictions'] = stacking_regressor.predict(data[predictors])\n",
    "\n",
    "# Display Predictions vs Actual for each year\n",
    "comparison = data[['Year', 'Player', 'Share', 'Predictions']]\n",
    "\n",
    "# Filter for the range of years you are interested in (1995-2024)\n",
    "comparison = comparison[(comparison['Year'] >= 1995) & (comparison['Year'] <= 2024)]\n",
    "\n",
    "# Display the comparison DataFrame\n",
    "print(comparison)\n"
   ]
  },
  {
   "cell_type": "code",
   "execution_count": 59,
   "metadata": {},
   "outputs": [
    {
     "name": "stdout",
     "output_type": "stream",
     "text": [
      "Top 5 Actual MVPs:\n",
      "       Year                   Player      Share  Predictions\n",
      "350    1995           David Robinson  14.796134    15.725012\n",
      "286    1995         Shaquille O'Neal   9.901835     9.648797\n",
      "387    1995              Karl Malone   8.704294     8.720148\n",
      "271    1995            Patrick Ewing   3.705861     3.593256\n",
      "145    1995          Hakeem Olajuwon   2.334763     2.196643\n",
      "...     ...                      ...        ...          ...\n",
      "13815  2024             Nikola Jokić  16.132521    17.181794\n",
      "14070  2024  Shai Gilgeous-Alexander  11.116732    11.557831\n",
      "13796  2024              Luka Dončić   9.832413     9.642465\n",
      "13986  2024    Giannis Antetokounmpo   3.271969     2.985376\n",
      "14042  2024            Jalen Brunson   2.386830     2.196643\n",
      "\n",
      "[150 rows x 4 columns]\n",
      "Top 5 Predicted MVPs:\n",
      "       Year                   Player      Share  Predictions\n",
      "350    1995           David Robinson  14.796134    15.725012\n",
      "286    1995         Shaquille O'Neal   9.901835     9.648797\n",
      "387    1995              Karl Malone   8.704294     8.720148\n",
      "271    1995            Patrick Ewing   3.705861     3.593256\n",
      "145    1995          Hakeem Olajuwon   2.334763     2.196643\n",
      "...     ...                      ...        ...          ...\n",
      "13815  2024             Nikola Jokić  16.132521    17.181794\n",
      "14070  2024  Shai Gilgeous-Alexander  11.116732    11.557831\n",
      "13796  2024              Luka Dončić   9.832413     9.642465\n",
      "13986  2024    Giannis Antetokounmpo   3.271969     2.985376\n",
      "14042  2024            Jalen Brunson   2.386830     2.196643\n",
      "\n",
      "[150 rows x 4 columns]\n"
     ]
    }
   ],
   "source": [
    "def calculate_top_5_mvp(comparison):\n",
    "    years = comparison['Year'].unique()\n",
    "    top_5_actual = []\n",
    "    top_5_predicted = []\n",
    "    \n",
    "    for year in years:\n",
    "        yearly_data = comparison[comparison['Year'] == year]\n",
    "        top_5_actual.append(yearly_data.sort_values('Share', ascending=False).head(5))\n",
    "        top_5_predicted.append(yearly_data.sort_values('Predictions', ascending=False).head(5))\n",
    "    \n",
    "    top_5_actual_df = pd.concat(top_5_actual)\n",
    "    top_5_predicted_df = pd.concat(top_5_predicted)\n",
    "    \n",
    "    return top_5_actual_df, top_5_predicted_df\n",
    "\n",
    "# Calculate the top 5 actual and predicted MVPs for each year\n",
    "top_5_actual, top_5_predicted = calculate_top_5_mvp(comparison)\n",
    "\n",
    "# Display the results\n",
    "print(\"Top 5 Actual MVPs:\")\n",
    "print(top_5_actual)\n",
    "\n",
    "print(\"Top 5 Predicted MVPs:\")\n",
    "print(top_5_predicted)\n"
   ]
  },
  {
   "cell_type": "code",
   "execution_count": 61,
   "metadata": {},
   "outputs": [
    {
     "name": "stdout",
     "output_type": "stream",
     "text": [
      "Predictions vs Actual results have been saved to 'predictions_vs_actual.csv'.\n"
     ]
    }
   ],
   "source": [
    "# Assuming 'comparison' DataFrame contains the necessary columns: 'Year', 'Player', 'Shares', 'Predictions'\n",
    "\n",
    "# Ensure the DataFrame is sorted by year and player\n",
    "comparison = comparison.sort_values(by=['Year', 'Player'])\n",
    "\n",
    "# Save the DataFrame to a CSV file\n",
    "comparison.to_csv('predictions_vs_actual.csv', index=False)\n",
    "\n",
    "# Display a message indicating that the file has been saved\n",
    "print(\"Predictions vs Actual results have been saved to 'predictions_vs_actual.csv'.\")\n"
   ]
  },
  {
   "cell_type": "code",
   "execution_count": 62,
   "metadata": {},
   "outputs": [
    {
     "name": "stdout",
     "output_type": "stream",
     "text": [
      "Training MSE: 0.0018584305642238919\n",
      "Training R²: 0.9981966324084313\n",
      "Training MAE: 0.003043291123075095\n",
      "Testing MSE: 0.0021394583355989834\n",
      "Testing R²: 0.9975620857971954\n",
      "Testing MAE: 0.0038285338287963747\n",
      "The model does not appear to be overfitting.\n"
     ]
    }
   ],
   "source": [
    "# Train the model on the training data\n",
    "stacking_regressor.fit(train[predictors], train[target])\n",
    "\n",
    "# Evaluate on the training data\n",
    "train_predictions = stacking_regressor.predict(train[predictors])\n",
    "train_mse = mean_squared_error(train[target], train_predictions)\n",
    "train_r2 = r2_score(train[target], train_predictions)\n",
    "train_mae = mean_absolute_error(train[target], train_predictions)\n",
    "\n",
    "print(\"Training MSE:\", train_mse)\n",
    "print(\"Training R²:\", train_r2)\n",
    "print(\"Training MAE:\", train_mae)\n",
    "\n",
    "# Evaluate on the testing data\n",
    "test_predictions = stacking_regressor.predict(test[predictors])\n",
    "test_mse = mean_squared_error(test[target], test_predictions)\n",
    "test_r2 = r2_score(test[target], test_predictions)\n",
    "test_mae = mean_absolute_error(test[target], test_predictions)\n",
    "\n",
    "print(\"Testing MSE:\", test_mse)\n",
    "print(\"Testing R²:\", test_r2)\n",
    "print(\"Testing MAE:\", test_mae)\n",
    "\n",
    "# Check for overfitting by comparing training and testing performance\n",
    "if train_r2 > test_r2 + 0.1:  # Adjust the threshold as needed\n",
    "    print(\"The model may be overfitting.\")\n",
    "else:\n",
    "    print(\"The model does not appear to be overfitting.\")\n"
   ]
  },
  {
   "cell_type": "code",
   "execution_count": 63,
   "metadata": {},
   "outputs": [],
   "source": [
    "import matplotlib.pyplot as plt\n",
    "from sklearn.model_selection import learning_curve\n",
    "\n",
    "train_sizes, train_scores, test_scores = learning_curve(stacking_regressor, train[predictors], train[target], cv=5, n_jobs=-1)\n",
    "\n",
    "train_scores_mean = np.mean(train_scores, axis=1)\n",
    "test_scores_mean = np.mean(test_scores, axis=1)\n",
    "\n",
    "plt.figure()\n",
    "plt.plot(train_sizes, train_scores_mean, label=\"Training score\")\n",
    "plt.plot(train_sizes, test_scores_mean, label=\"Cross-validation score\")\n",
    "plt.title(\"Learning Curve\")\n",
    "plt.xlabel(\"Training examples\")\n",
    "plt.ylabel(\"Score\")\n",
    "plt.legend(loc=\"best\")\n",
    "plt.show()\n"
   ]
  }
 ],
 "metadata": {
  "kernelspec": {
   "display_name": "base",
   "language": "python",
   "name": "python3"
  },
  "language_info": {
   "codemirror_mode": {
    "name": "ipython",
    "version": 3
   },
   "file_extension": ".py",
   "mimetype": "text/x-python",
   "name": "python",
   "nbconvert_exporter": "python",
   "pygments_lexer": "ipython3",
   "version": "3.10.9"
  }
 },
 "nbformat": 4,
 "nbformat_minor": 2
}
